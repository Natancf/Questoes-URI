{
  "nbformat": 4,
  "nbformat_minor": 0,
  "metadata": {
    "colab": {
      "name": "URI.ipynb",
      "provenance": [],
      "collapsed_sections": [],
      "authorship_tag": "ABX9TyMHuvPNXFQC9cm90cUaZor4",
      "include_colab_link": true
    },
    "kernelspec": {
      "display_name": "Python 3",
      "name": "python3"
    }
  },
  "cells": [
    {
      "cell_type": "markdown",
      "metadata": {
        "id": "view-in-github",
        "colab_type": "text"
      },
      "source": [
        "<a href=\"https://colab.research.google.com/github/Natancf/desafiosdepython/blob/master/URI.ipynb\" target=\"_parent\"><img src=\"https://colab.research.google.com/assets/colab-badge.svg\" alt=\"Open In Colab\"/></a>"
      ]
    },
    {
      "cell_type": "code",
      "metadata": {
        "id": "-mURZpvYPyK3"
      },
      "source": [
        "A = int(input(''))\n",
        "B = int(input(''))\n",
        "X = A + B\n",
        "print(\"X = {}\".format(X))"
      ],
      "execution_count": null,
      "outputs": []
    },
    {
      "cell_type": "code",
      "metadata": {
        "colab": {
          "base_uri": "https://localhost:8080/"
        },
        "id": "8S_kcheZsSNe",
        "outputId": "f5ff2af9-06bb-4250-ee85-ae0b11171f27"
      },
      "source": [
        "x1, y1 = input('').split(\" \")\n",
        "x2, y2 = input('').split(\" \")\n",
        "x1, y1, x2, y2 = float(x1), float(y1), float(x2), float(y2)\n",
        "\n",
        "calculo = ((x2 - x1)**2 + (y2 - y1)**2)**0.5\n",
        "    \n",
        "print(\"{:.4f}\".format(calculo))"
      ],
      "execution_count": null,
      "outputs": [
        {
          "output_type": "stream",
          "text": [
            "1 7\n",
            "5 9\n",
            "4.4721\n"
          ],
          "name": "stdout"
        }
      ]
    },
    {
      "cell_type": "code",
      "metadata": {
        "colab": {
          "base_uri": "https://localhost:8080/"
        },
        "id": "bQVZmFSJw9fi",
        "outputId": "f5a27581-eaa5-44f6-edcb-cf7f2709a07f"
      },
      "source": [
        "distancia = int(input(''))\n",
        "    \n",
        "print(\"{} minutos\".format(distancia*2))"
      ],
      "execution_count": null,
      "outputs": [
        {
          "output_type": "stream",
          "text": [
            "30\n",
            "60 minutos\n"
          ],
          "name": "stdout"
        }
      ]
    },
    {
      "cell_type": "code",
      "metadata": {
        "colab": {
          "base_uri": "https://localhost:8080/"
        },
        "id": "AyMR_DTn1HV_",
        "outputId": "9f1e88e0-639e-4b09-a653-680825535d30"
      },
      "source": [
        "tempo_gasto = int(input())\n",
        "velocidade_media = int(input())\n",
        "\n",
        "quantidade_litros = (tempo_gasto * velocidade_media)/12;\n",
        "\n",
        "print(\"{:.3f}\".format(quantidade_litros))"
      ],
      "execution_count": null,
      "outputs": [
        {
          "output_type": "stream",
          "text": [
            "10\n",
            "85\n",
            "70.833\n"
          ],
          "name": "stdout"
        }
      ]
    },
    {
      "cell_type": "code",
      "metadata": {
        "id": "3a1V7hpPgOUT"
      },
      "source": [
        ""
      ],
      "execution_count": null,
      "outputs": []
    },
    {
      "cell_type": "code",
      "metadata": {
        "colab": {
          "base_uri": "https://localhost:8080/"
        },
        "id": "irRm9ZWVi_gG",
        "outputId": "bd095db5-4028-4628-f2e8-da97dc657b32"
      },
      "source": [
        "raio = float(input(''))\n",
        "pi = 3.14159\n",
        "area = pi * (raio**2)\n",
        "\n",
        "print(\"A={:.4f}\".format(area))"
      ],
      "execution_count": null,
      "outputs": [
        {
          "output_type": "stream",
          "text": [
            "2\n",
            "A=12.5664\n"
          ],
          "name": "stdout"
        }
      ]
    },
    {
      "cell_type": "code",
      "metadata": {
        "colab": {
          "base_uri": "https://localhost:8080/"
        },
        "id": "N643ULHBVGko",
        "outputId": "4d7a599f-44fe-4333-d1cb-56216aab287c"
      },
      "source": [
        "A = int(input(''))\n",
        "B = int(input(''))\n",
        "\n",
        "SOMA = A + B;\n",
        "\n",
        "print(\"SOMA = {}\".format(SOMA));"
      ],
      "execution_count": null,
      "outputs": [
        {
          "output_type": "stream",
          "text": [
            "30\n",
            "10\n",
            "SOMA = 40\n"
          ],
          "name": "stdout"
        }
      ]
    },
    {
      "cell_type": "code",
      "metadata": {
        "colab": {
          "base_uri": "https://localhost:8080/"
        },
        "id": "oUvmIGYDHxy5",
        "outputId": "a3611350-ca96-400f-a8e1-6df2c0136642"
      },
      "source": [
        "A = int(input(''))\n",
        "B = int(input(''))\n",
        "\n",
        "PROD = A * B;\n",
        "\n",
        "print(\"PROD = {}\".format(PROD));"
      ],
      "execution_count": null,
      "outputs": [
        {
          "output_type": "stream",
          "text": [
            "20\n",
            "30\n",
            "PROD = 600\n"
          ],
          "name": "stdout"
        }
      ]
    },
    {
      "cell_type": "code",
      "metadata": {
        "colab": {
          "base_uri": "https://localhost:8080/"
        },
        "id": "iWtr1wqHOj-i",
        "outputId": "d37d3195-5eaf-4b58-ee04-732d6e7846c0"
      },
      "source": [
        "A = float(input(''))\n",
        "B = float(input(''))\n",
        "media = (A * 3.5 + B * 7.5)/11;\n",
        "\n",
        "print(\"MEDIA = {:.5f}\".format(media));"
      ],
      "execution_count": null,
      "outputs": [
        {
          "output_type": "stream",
          "text": [
            "5\n",
            "7.1\n",
            "MEDIA = 6.43182\n"
          ],
          "name": "stdout"
        }
      ]
    },
    {
      "cell_type": "code",
      "metadata": {
        "colab": {
          "base_uri": "https://localhost:8080/"
        },
        "id": "7hxz_J4YP502",
        "outputId": "bb9c9654-85ff-4936-ab98-afe270e5bf8d"
      },
      "source": [
        "A = float(input(''))\n",
        "B = float(input(''))\n",
        "C = float(input(''))\n",
        "media = (A * 2 + B * 3 + C * 5)/10;\n",
        "\n",
        "print(\"MEDIA = {:.1f}\".format(media));"
      ],
      "execution_count": null,
      "outputs": [
        {
          "output_type": "stream",
          "text": [
            "5.0\n",
            "6.0\n",
            "7.0\n",
            "MEDIA = 6.3\n"
          ],
          "name": "stdout"
        }
      ]
    },
    {
      "cell_type": "code",
      "metadata": {
        "id": "t5kFQTY8ROzv"
      },
      "source": [
        "A = int(input(''))\n",
        "B = int(input(''))\n",
        "C = int(input(''))\n",
        "D = int(input(''))\n",
        "DIFERENCA = (A * B - C * D);\n",
        "\n",
        "print(\"DIFERENCA = {}\".format(DIFERENCA));"
      ],
      "execution_count": null,
      "outputs": []
    },
    {
      "cell_type": "code",
      "metadata": {
        "colab": {
          "base_uri": "https://localhost:8080/"
        },
        "id": "FHi14eMxNDg_",
        "outputId": "fd4cb16c-492f-499d-d57e-169d1a2e5731"
      },
      "source": [
        "number = int(input(''))\n",
        "hours = int(input(''))\n",
        "salary_hours = float(input(''))\n",
        "salary = hours * salary_hours;\n",
        "\n",
        "print(\"NUMBER = {}\".format(number))\n",
        "print(\"SALARY = U$ {:.2f}\".format(salary))"
      ],
      "execution_count": null,
      "outputs": [
        {
          "output_type": "stream",
          "text": [
            "50\n",
            "100\n",
            "5.5\n",
            "NUMBER = 50\n",
            "SALARY = U$ 550.00\n"
          ],
          "name": "stdout"
        }
      ]
    },
    {
      "cell_type": "code",
      "metadata": {
        "colab": {
          "base_uri": "https://localhost:8080/"
        },
        "id": "uSlVdhgYCUut",
        "outputId": "d996f7a4-a50a-4ed1-c492-66a051e81362"
      },
      "source": [
        "id_item1, quant_item1, preco_und1 = input().split(\" \")\n",
        "id_item2, quant_item2, preco_und2 = input().split(\" \")\n",
        "id_item1, quant_item1, preco_und1 = int(id_item1), int(quant_item1), float(preco_und1)\n",
        "id_item2, quant_item2, preco_und2 = int(id_item2), int(quant_item2), float(preco_und2)\n",
        "\n",
        "preco_total = (quant_item1 * preco_und1) + (quant_item2 * preco_und2);\n",
        "\n",
        "print(\"VALOR A PAGAR: R$ {:.2f}\".format(preco_total))"
      ],
      "execution_count": null,
      "outputs": [
        {
          "output_type": "stream",
          "text": [
            "12 1 5.3\n",
            "14 2 5.1\n",
            "VALOR A PAGAR: R$ 15.50\n"
          ],
          "name": "stdout"
        }
      ]
    },
    {
      "cell_type": "code",
      "metadata": {
        "colab": {
          "base_uri": "https://localhost:8080/"
        },
        "id": "dkoySfdH3uNv",
        "outputId": "175cb49d-b615-4fae-d188-6e592749851d"
      },
      "source": [
        "name = str(input(''))\n",
        "salary = float(input(''))\n",
        "sales = float(input(''))\n",
        "\n",
        "salary = salary + sales * 0.15;\n",
        "\n",
        "print(\"TOTAL = R$ {:.2f}\".format(salary))"
      ],
      "execution_count": null,
      "outputs": [
        {
          "output_type": "stream",
          "text": [
            "JOAO\n",
            "500\n",
            "1230.30\n",
            "TOTAL = R$ 684.54\n"
          ],
          "name": "stdout"
        }
      ]
    },
    {
      "cell_type": "code",
      "metadata": {
        "id": "iskZqFYtG-Yp"
      },
      "source": [
        ""
      ],
      "execution_count": null,
      "outputs": []
    },
    {
      "cell_type": "code",
      "metadata": {
        "colab": {
          "base_uri": "https://localhost:8080/"
        },
        "id": "tqULHsGYJ-th",
        "outputId": "909e81ea-171b-4560-de77-244e8c61d768"
      },
      "source": [
        "raio = float(input(''))\n",
        "\n",
        "pi = 3.14159\n",
        "raio_cubo = (raio * raio * raio);\n",
        "volume = (4/3.0) * pi * raio_cubo;\n",
        "\n",
        "print(\"VOLUME = {:.3f}\".format(volume))"
      ],
      "execution_count": null,
      "outputs": [
        {
          "output_type": "stream",
          "text": [
            "3\n",
            "VOLUME = 113.097\n"
          ],
          "name": "stdout"
        }
      ]
    },
    {
      "cell_type": "code",
      "metadata": {
        "colab": {
          "base_uri": "https://localhost:8080/"
        },
        "id": "-D-aM0vYOZ5W",
        "outputId": "170d3f52-10eb-40ab-ce73-c886b47b4579"
      },
      "source": [
        "A,B,C = input().split(\" \")\n",
        "A,B,C = float(A), float(B), float(C)\n",
        "\n",
        "pi = 3.14159\n",
        "\n",
        "tri_ret = (A * C)/2;\n",
        "circ = pi * (C*C);\n",
        "trapz = ((A + B)*C)/2;\n",
        "quad = B * B;\n",
        "ret = A * B;\n",
        "\n",
        "print(\"TRIANGULO: {:.3f}\".format(tri_ret));\n",
        "print(\"CIRCULO: {:.3f}\".format(circ));\n",
        "print(\"TRAPEZIO: {:.3f}\".format(trapz));\n",
        "print(\"QUADRADO: {:.3f}\".format(quad));\n",
        "print(\"RETANGULO: {:.3f}\".format(ret))"
      ],
      "execution_count": null,
      "outputs": [
        {
          "output_type": "stream",
          "text": [
            "3 4 5.2\n",
            "TRIANGULO: 7.800\n",
            "CIRCULO: 84.949\n",
            "TRAPEZIO: 18.200\n",
            "QUADRADO: 16.000\n",
            "RETANGULO: 12.000\n"
          ],
          "name": "stdout"
        }
      ]
    },
    {
      "cell_type": "code",
      "metadata": {
        "colab": {
          "base_uri": "https://localhost:8080/"
        },
        "id": "zy4KVtnXq9_1",
        "outputId": "81390693-bd27-44dd-916c-1d9adff01128"
      },
      "source": [
        "maior = 0\n",
        "for j in range(3):\n",
        "    numeros = input('')\n",
        "    numeros = int (numeros)\n",
        "    if numeros > maior:\n",
        "        maior = numeros;\n",
        "\n",
        "print(\"{} eh o maior\".format(maior))"
      ],
      "execution_count": null,
      "outputs": [
        {
          "output_type": "stream",
          "text": [
            "14\n",
            "2\n",
            "3\n",
            "14 eh o maior\n"
          ],
          "name": "stdout"
        }
      ]
    },
    {
      "cell_type": "code",
      "metadata": {
        "colab": {
          "base_uri": "https://localhost:8080/"
        },
        "id": "fMNRQ7IC6dY9",
        "outputId": "835ec823-4ad0-4a1a-ff82-f5d98f2cfb85"
      },
      "source": [
        "A,B,C = input().split(\" \")\n",
        "a = int(A)\n",
        "b = int(B)\n",
        "c = int(C)\n",
        "MaiorAB = int((a+b+abs(a-b))/2)\n",
        "if MaiorAB > c:\n",
        "    print(\"{} eh o maior\".format(MaiorAB))\n",
        "else:\n",
        "    print(\"{} eh o maior\".format(c))"
      ],
      "execution_count": null,
      "outputs": [
        {
          "output_type": "stream",
          "text": [
            "14 5 25\n",
            "25 eh o maior\n"
          ],
          "name": "stdout"
        }
      ]
    },
    {
      "cell_type": "code",
      "metadata": {
        "colab": {
          "base_uri": "https://localhost:8080/"
        },
        "id": "cxYTvLqq9Mij",
        "outputId": "c9c1d348-1be6-41ae-c94e-6b700692ff50"
      },
      "source": [
        "X = int(input())\n",
        "Y = float(input())\n",
        "\n",
        "consumo_medio = X / Y;\n",
        "\n",
        "print(\"{:.3f} km/l\".format(consumo_medio))"
      ],
      "execution_count": null,
      "outputs": [
        {
          "output_type": "stream",
          "text": [
            "500\n",
            "35\n",
            "14.286 km/l\n"
          ],
          "name": "stdout"
        }
      ]
    },
    {
      "cell_type": "code",
      "metadata": {
        "colab": {
          "base_uri": "https://localhost:8080/"
        },
        "id": "Dkuk1p_Igem3",
        "outputId": "b7fc265a-15fb-4727-c1b7-5b19afd8532a"
      },
      "source": [
        "valor = int(input(''))\n",
        "valor_final = valor\n",
        "cem=0\n",
        "cinquenta=0\n",
        "vinte=0\n",
        "dez=0\n",
        "cinco=0\n",
        "dois=0\n",
        "um=0\n",
        "\n",
        "if valor >= 100:\n",
        "    while valor >= 100:\n",
        "        valor = valor - 100\n",
        "        cem = cem + 1\n",
        "if valor >= 50:\n",
        "    while valor >= 50:\n",
        "        valor = valor - 50\n",
        "        cinquenta = cinquenta + 1\n",
        "if valor >= 20:\n",
        "    while valor >= 20:\n",
        "        valor = valor - 20\n",
        "        vinte = vinte + 1\n",
        "if valor >= 10:\n",
        "    while valor >= 10:\n",
        "        valor = valor - 10\n",
        "        dez = dez + 1\n",
        "if valor >= 5:\n",
        "    while valor >= 5:\n",
        "        valor = valor - 5\n",
        "        cinco = cinco + 1\n",
        "if valor >= 2:\n",
        "    while valor >= 2:\n",
        "        valor = valor - 2\n",
        "        dois = dois + 1\n",
        "if valor >= 1:\n",
        "    while valor >= 1:\n",
        "        valor = valor - 1\n",
        "        um = um + 1\n",
        "\n",
        "print(\"{}\".format(valor_final))\n",
        "print(\"{} nota(s) de R$ 100,00\".format(cem))\n",
        "print(\"{} nota(s) de R$ 50,00\".format(cinquenta))\n",
        "print(\"{} nota(s) de R$ 20,00\".format(vinte))\n",
        "print(\"{} nota(s) de R$ 10,00\".format(dez))\n",
        "print(\"{} nota(s) de R$ 5,00\".format(cinco))\n",
        "print(\"{} nota(s) de R$ 2,00\".format(dois))\n",
        "print(\"{} nota(s) de R$ 1,00\".format(um))"
      ],
      "execution_count": null,
      "outputs": [
        {
          "output_type": "stream",
          "text": [
            "150\n",
            "150\n",
            "1 nota(s) de R$ 100,00\n",
            "1 nota(s) de R$ 50,00\n",
            "0 nota(s) de R$ 20,00\n",
            "0 nota(s) de R$ 10,00\n",
            "0 nota(s) de R$ 5,00\n",
            "0 nota(s) de R$ 2,00\n",
            "0 nota(s) de R$ 1,00\n"
          ],
          "name": "stdout"
        }
      ]
    },
    {
      "cell_type": "code",
      "metadata": {
        "id": "-YujQKtdwbak"
      },
      "source": [
        "def par():\n",
        "    A = float(input(''))\n",
        "    B = A % 2\n",
        "    if B == 0:\n",
        "        print(\"esse número é par\")\n",
        "    else:\n",
        "        print(\"esse número é impar\")\n",
        "par()"
      ],
      "execution_count": null,
      "outputs": []
    },
    {
      "cell_type": "code",
      "metadata": {
        "id": "HfEJH1lxweyX"
      },
      "source": [
        "def Teste_de_Seleção_1():\n",
        "    A,B,C,D = input().split(\" \")\n",
        "    a,b,c,d = int(A), int(B), int(C), int(D)\n",
        "    if b > c and d > a and c + d > a + b and c & d >= 0 and a % 2 == 0:\n",
        "        print(\"Valores aceitos\")\n",
        "    else:\n",
        "        print(\"Valores nao aceitos\")\n",
        "Teste_de_Seleção_1()"
      ],
      "execution_count": null,
      "outputs": []
    },
    {
      "cell_type": "code",
      "metadata": {
        "id": "hxeFCQZO3EoW"
      },
      "source": [
        "def Fórmula_de_Bhaskara():\n",
        "    A, B, C = input().split(\" \")\n",
        "    A, B, C = float(A), float(B), float(C)\n",
        "    delta = (B ** 2) - (4 * A * C)\n",
        "    delta = float(delta)\n",
        "    if delta < 0:\n",
        "        print(\"Impossivel calcular\")\n",
        "    elif A == 0:\n",
        "        print(\"Impossivel calcular\")\n",
        "    else:\n",
        "        R1 = (-1*B + delta ** (0.5))/ (2 * A)\n",
        "        R2 = (-1*B - delta ** (0.5))/ (2 * A)\n",
        "        print(\"R1 = {:.5f}\".format(R1))\n",
        "        print(\"R2 = {:.5f}\".format(R2))\n",
        "Fórmula_de_Bhaskara()"
      ],
      "execution_count": null,
      "outputs": []
    },
    {
      "cell_type": "code",
      "metadata": {
        "id": "hkVk1FiVhg3_"
      },
      "source": [
        "a, b, c = input().split() \n",
        "a = float(a) \n",
        "b = float(b) \n",
        "c = float(c)\n",
        "delta = (b ** 2) - (4*a*c) \n",
        "delta = float(delta) \n",
        "if delta < 0: \n",
        "    print(\"Impossível calcular\") \n",
        "elif a == 0: \n",
        "    print(\"Impossível calcular\") \n",
        "else: \n",
        "    x1 = ((-1 * b) + (delta ** (1 / 2))) / (2 * a) \n",
        "    x2 = ((-1 * b) - (delta ** (1 / 2))) / (2 * a) \n",
        "    print(\"R1 = {:.5f}\".format(x1)) \n",
        "    print(\"R1 = {:.5f}\".format(x2))"
      ],
      "execution_count": null,
      "outputs": []
    },
    {
      "cell_type": "code",
      "metadata": {
        "id": "mFXcCyZ2s22r"
      },
      "source": [
        "def intervalo():\n",
        "    A = input()\n",
        "    A = float(A)\n",
        "    if A >= 0 and A <= 25:\n",
        "        print(\"Intervalo [0,25]\")\n",
        "    elif A > 25 and A<=50:\n",
        "        print(\"Intervalo (25,50]\")\n",
        "    elif A > 50 and A<=75:\n",
        "        print(\"Intervalo (50,75]\")\n",
        "    elif A >75 and A<=100:\n",
        "        print(\"Intervalo (75,100]\")\n",
        "    else:\n",
        "        print(\"Fora de intervalo\")\n",
        "intervalo()\n"
      ],
      "execution_count": null,
      "outputs": []
    },
    {
      "cell_type": "code",
      "metadata": {
        "id": "VlpPjvh2wfrI"
      },
      "source": [
        "def Lanche():\n",
        "    a, b, = input().split()\n",
        "    a, b, = int(a), int(b)\n",
        "    \n",
        "    if a == 1:\n",
        "        print('Total: R$ {}.00'.format(b * 4))\n",
        "    elif a == 2:\n",
        "        print('Total: R$ {:.2f}'.format(b * 4.5))\n",
        "    elif a == 3:\n",
        "        print('Total: R$ {:.2f}'.format(b * 5))\n",
        "    elif a == 4:\n",
        "        print('Total: R$ {:.2f}'.format(b * 2))\n",
        "    elif a == 5:\n",
        "        print('Total: R$ {:.2f}'.format(b * 1.5))\n",
        "Lanche()"
      ],
      "execution_count": null,
      "outputs": []
    },
    {
      "cell_type": "code",
      "metadata": {
        "id": "8C_uTUCKtI-E"
      },
      "source": [
        "import random\n",
        "\n",
        "al1, al2, al3, al4 = input().split()\n",
        "alunos = [al1, al2, al3, al4]\n",
        "\n",
        "random.shuffle(alunos)\n",
        "\n",
        "print(alunos)"
      ],
      "execution_count": null,
      "outputs": []
    },
    {
      "cell_type": "code",
      "metadata": {
        "id": "tiKGQzutuZ7X"
      },
      "source": [
        "def Media_3():\n",
        "    N1, N2, N3, N4 = input().split()\n",
        "    N1, N2, N3, N4 = float(N1), float(N2), float(N3), float(N4)\n",
        "    Media = ((N1 * 2) + (N2 * 3) + (N3 * 4) + (N4 * 1))/10\n",
        "    \n",
        "\n",
        "    print('Media: {:.1f}'.format(Media))\n",
        "\n",
        "    if Media >= 7:\n",
        "        print('Aluno aprovado.')\n",
        "    elif Media < 5:\n",
        "        print('Aluno reprovado.')\n",
        "    elif Media >= 5 and Media <= 6.9:\n",
        "        print('Aluno em exame.')\n",
        "        N5 = input()\n",
        "        N5 = float(N5)\n",
        "        print('Nota do exame: ', N5)\n",
        "        Media_exame = (N5 + Media)/2\n",
        "        Media_exame = float(Media_exame)\n",
        "        if Media_exame >= 5:\n",
        "            print('Aluno aprovado.')\n",
        "        if Media_exame <= 4.9:\n",
        "            print('Aluno reprovado.')\n",
        "        print('Media final: {:.1f}'.format(Media_exame))\n",
        "Media_3()"
      ],
      "execution_count": null,
      "outputs": []
    },
    {
      "cell_type": "code",
      "metadata": {
        "id": "v6Cq-g5f33iq"
      },
      "source": [
        "def Media_3():\n",
        "    N1, N2, N3, N4 = input().split()\n",
        "    N1, N2, N3, N4 = float(N1), float(N2), float(N3), float(N4)\n",
        "    Media = ((N1 * 2) + (N2 * 3) + (N3 * 4) + (N4 * 1))/10\n",
        "    \n",
        "    if Media >= 5 and Media <= 6.9:\n",
        "        N5 = input()\n",
        "        N5 = float(N5)\n",
        "    print('Media: {:.1f}'.format(Media))\n",
        "\n",
        "    if Media >= 7:\n",
        "        print('Aluno aprovado.')\n",
        "\n",
        "    elif Media < 5:\n",
        "        print('Aluno reprovado.')\n",
        "\n",
        "    elif Media >= 5 and Media <= 6.9:\n",
        "        print('Aluno em exame.')\n",
        "        print('Nota do exame:', N5)\n",
        "        Media_exame = (N5 + Media)/2\n",
        "        Media_exame = float(Media_exame)\n",
        "        if Media_exame >= 5:\n",
        "            print('Aluno aprovado.')\n",
        "        if Media_exame <= 4.9:\n",
        "            print('Aluno reprovado.')\n",
        "        print('Media final: {:.1f}'.format(Media_exame))\n",
        "Media_3()"
      ],
      "execution_count": null,
      "outputs": []
    },
    {
      "cell_type": "code",
      "metadata": {
        "id": "QiYHkhbLH6Qr"
      },
      "source": [
        "lista = []\n",
        "flag = False\n",
        "\n",
        "for x in range(3):\n",
        "\n",
        "    tamanho = len(lista)\n",
        "\n",
        "    A = int(input())\n",
        "\n",
        "    if( tamanho > 0 ):\n",
        "\n",
        "        for y in range( tamanho ):\n",
        "\n",
        "            if ( A <= lista[y] ):\n",
        "\n",
        "                lista.insert( y, A)\n",
        "\n",
        "                flag = True\n",
        "\n",
        "                break\n",
        "\n",
        "    if((x == 0) or (flag == False)):\n",
        "\n",
        "        lista.append( A )\n",
        "\n",
        "    else:\n",
        "\n",
        "        flag = False\n",
        "\n",
        "print(lista)\n",
        "print(lista)"
      ],
      "execution_count": null,
      "outputs": []
    },
    {
      "cell_type": "code",
      "metadata": {
        "id": "AbjNEUvpDGNs"
      },
      "source": [
        "a, b, c = input().split()\n",
        "a, b, c = int(a), int(b), int(c)\n",
        "\n",
        "if a > b and a > c:\n",
        "    maior = a\n",
        "if b < a and b > c:\n",
        "    meio = b\n",
        "if c < a and c > b:\n",
        "    meio = c\n",
        "if b < a and b < c:\n",
        "    menor = b\n",
        "if c < a and c < b:\n",
        "    menor = c\n",
        "\n",
        "if b > a and b > c:\n",
        "    maior = b\n",
        "if a < b and a > c:\n",
        "    meio = a\n",
        "if c < b and c > a:\n",
        "    meio = c\n",
        "if a < b and a < c:\n",
        "    menor = a\n",
        "if c < b and c < a:\n",
        "    menor = c\n",
        "\n",
        "if c > a and c > b:\n",
        "    maior = c\n",
        "if a > b and a < c:\n",
        "    meio = a\n",
        "if b > a and b < c:\n",
        "    meio = b\n",
        "if a < b and a < c:\n",
        "    menor = a\n",
        "if b < a and b < c:\n",
        "    menor = b\n",
        "\n",
        "print(menor) \n",
        "print(meio)\n",
        "print(maior)\n",
        "print('')\n",
        "print(a)\n",
        "print(b) \n",
        "print(c)"
      ],
      "execution_count": null,
      "outputs": []
    },
    {
      "cell_type": "code",
      "metadata": {
        "id": "PWGwZikHmyKa"
      },
      "source": [
        "import math\n",
        "\n",
        "def calculo_trigonometrico():\n",
        "    angulo = float(input())\n",
        "\n",
        "    radiano = math.radians (angulo)\n",
        "\n",
        "    seno = math.sin(radiano)\n",
        "    cose = math.cos(radiano)\n",
        "    tang = math.tan(radiano)\n",
        "    \n",
        "    print('{:.2f}'.format(seno))\n",
        "    print('{:.2f}'.format(cose))\n",
        "    print('{:.2f}'.format(tang))\n",
        "calculo_trigonometrico()"
      ],
      "execution_count": null,
      "outputs": []
    },
    {
      "cell_type": "code",
      "metadata": {
        "id": "vXPCRTOsryvv"
      },
      "source": [
        "A, B, C = input().split()\n",
        "A, B, C = float(A), float(B), float(C)\n",
        "\n",
        "lista = [A, B, C] \n",
        "lista.sort(reverse=True)\n",
        "\n",
        "A = float(lista[0])\n",
        "B = float(lista[1])\n",
        "C = float(lista[2])\n",
        "\n",
        "if A >= B + C :\n",
        "    print(\"NAO FORMA TRIANGULO\")\n",
        "else:\n",
        "    if A ** 2 == B ** 2 + C ** 2:\n",
        "        print(\"TRIANGULO RETANGULO\")\n",
        "    if A ** 2 > B ** 2 + C ** 2:\n",
        "        print(\"TRIANGULO OBTUSANGULO\")\n",
        "    if A ** 2 < B ** 2 + C ** 2:\n",
        "        print(\"TRIANGULO ACUTANGULO\")\n",
        "    if A == B and A == C and C == B:\n",
        "        print(\"TRIANGULO EQUILATERO\")\n",
        "    if A == B != C or A == C != B or B == C != A or C == B != A:\n",
        "        print(\"TRIANGULO ISOSCELES\")"
      ],
      "execution_count": null,
      "outputs": []
    },
    {
      "cell_type": "code",
      "metadata": {
        "id": "WVQxrtcTuRvE"
      },
      "source": [
        "a, b, c = input().split()\n",
        "a, b, c = float(a), float(b), float(c)\n",
        "lista = []\n",
        "lista.append(a)\n",
        "lista.append(b)\n",
        "lista.append(c)\n",
        "lista_ord = sorted(lista)\n",
        "print(str(lista_ord).strip('[]'))\n",
        "print(str(lista).strip('[]'))\n",
        "\n"
      ],
      "execution_count": null,
      "outputs": []
    },
    {
      "cell_type": "code",
      "metadata": {
        "id": "-dHi-MhkZR7x"
      },
      "source": [
        "Hora_inicial, Hora_final = input().split()\n",
        "Hora_inicial, Hora_final = int(Hora_inicial), int(Hora_final)\n",
        "\n",
        "if Hora_inicial > Hora_final or Hora_inicial == Hora_final:\n",
        "    print(\"O JOGO DUROU {} HORA(S)\".format(24 - Hora_inicial + Hora_final))\n",
        "elif Hora_inicial < Hora_final:\n",
        "    print(\"O JOGO DUROU {} HORA(S)\".format(Hora_final - Hora_inicial ))"
      ],
      "execution_count": null,
      "outputs": []
    },
    {
      "cell_type": "code",
      "metadata": {
        "id": "F6brWhroAHMH"
      },
      "source": [
        "num = input(\"Digite um numero para contagem regressiva: \")\n",
        "num = int(num)\n",
        "\n",
        "from time import sleep\n",
        "\n",
        "for c in range(num,0, -1):\n",
        "    print(c)\n",
        "    sleep(1)\n",
        "print('fim')"
      ],
      "execution_count": null,
      "outputs": []
    },
    {
      "cell_type": "code",
      "metadata": {
        "id": "GefZdfH3hESK"
      },
      "source": [
        "Hora_inicial, Minuto_inicial, Hora_final, Minuto_final = input().split()\n",
        "Hora_inicial, Minuto_inicial, Hora_final, Minuto_final = int(Hora_inicial), int(Minuto_inicial), int(Hora_final), int(Minuto_final)\n",
        "\n",
        "caso_hr_igual = 24 - Hora_inicial + Hora_final\n",
        "caso_hro_maior = 24 - Hora_inicial + Hora_final\n",
        "caso_hro_menor = Hora_final - Hora_inicial\n",
        "\n",
        "caso_min_igual = Minuto_inicial - Minuto_final\n",
        "caso_mino_maior = 60 - Minuto_inicial + Minuto_final\n",
        "caso_mino_menor = Minuto_final - Minuto_inicial\n",
        "\n",
        "if 60 - Minuto_inicial + Minuto_final == 59:\n",
        "    caso_hr_igual = 24 - Hora_inicial + Hora_final - 1\n",
        "    caso_hro_maior = 24 - Hora_inicial + Hora_final - 1\n",
        "    caso_hro_menor = Hora_final - Hora_inicial - 1\n",
        "    \n",
        "    if Hora_inicial == Hora_final and Minuto_inicial == Minuto_final:\n",
        "        print(\"O JOGO DUROU {} HORA(S) E {} MINUTO(S)\".format(caso_hr_igual, caso_min_igual))\n",
        "    elif Hora_inicial == Hora_final and Minuto_inicial > Minuto_final:\n",
        "        print(\"O JOGO DUROU {} HORA(S) E {} MINUTO(S)\".format((caso_hr_igual), (caso_mino_maior)))\n",
        "    elif Hora_inicial == Hora_final and Minuto_inicial > Minuto_final:\n",
        "        print(\"O JOGO DUROU {} HORA(S) E {} MINUTO(S)\".format((caso_hr_igual), (caso_mino_menor)))\n",
        "\n",
        "    elif Hora_inicial > Hora_final and Minuto_inicial == Minuto_final :\n",
        "        print(\"O JOGO DUROU {} HORA(S) E {} MINUTO(S)\".format((caso_hro_maior), (caso_min_igual)))\n",
        "    elif Hora_inicial > Hora_final and Minuto_inicial > Minuto_final :\n",
        "        print(\"O JOGO DUROU {} HORA(S) E {} MINUTO(S)\".format((caso_hro_maior), (caso_mino_maior)))\n",
        "    elif Hora_inicial > Hora_final and Minuto_inicial > Minuto_final :\n",
        "        print(\"O JOGO DUROU {} HORA(S) E {} MINUTO(S)\".format((caso_hro_maior), (caso_mino_menor )))\n",
        "\n",
        "\n",
        "    elif Hora_inicial < Hora_final and Minuto_inicial == Minuto_final:\n",
        "        print(\"O JOGO DUROU {} HORA(S) E {} MINUTO(S)\".format((caso_hro_menor), (caso_min_igual)))\n",
        "    elif Hora_inicial < Hora_final and Minuto_inicial > Minuto_final:\n",
        "        print(\"O JOGO DUROU {} HORA(S) E {} MINUTO(S)\".format((caso_hro_menor), (caso_mino_maior)))\n",
        "    elif Hora_inicial < Hora_final and Minuto_inicial < Minuto_final:\n",
        "        print(\"O JOGO DUROU {} HORA(S) E {} MINUTO(S)\".format((caso_hro_menor), (caso_mino_menor )))\n",
        "else:\n",
        "    if Hora_inicial == Hora_final and Minuto_inicial == Minuto_final:\n",
        "        print(\"O JOGO DUROU {} HORA(S) E {} MINUTO(S)\".format(caso_hr_igual, caso_min_igual))\n",
        "    if Hora_inicial == Hora_final and Minuto_inicial > Minuto_final:\n",
        "        print(\"O JOGO DUROU {} HORA(S) E {} MINUTO(S)\".format((caso_hr_igual), (caso_mino_maior)))\n",
        "    elif Hora_inicial == Hora_final and Minuto_inicial > Minuto_final:\n",
        "        print(\"O JOGO DUROU {} HORA(S) E {} MINUTO(S)\".format((caso_hr_igual), (caso_mino_menor)))\n",
        "\n",
        "    elif Hora_inicial > Hora_final and Minuto_inicial == Minuto_final :\n",
        "        print(\"O JOGO DUROU {} HORA(S) E {} MINUTO(S)\".format((caso_hro_maior), (caso_min_igual)))\n",
        "    elif Hora_inicial > Hora_final and Minuto_inicial > Minuto_final :\n",
        "        print(\"O JOGO DUROU {} HORA(S) E {} MINUTO(S)\".format((caso_hro_maior), (caso_mino_maior)))\n",
        "    elif Hora_inicial > Hora_final and Minuto_inicial > Minuto_final :\n",
        "        print(\"O JOGO DUROU {} HORA(S) E {} MINUTO(S)\".format((caso_hro_maior), (caso_mino_menor )))\n",
        "\n",
        "\n",
        "    elif Hora_inicial < Hora_final and Minuto_inicial == Minuto_final:\n",
        "        print(\"O JOGO DUROU {} HORA(S) E {} MINUTO(S)\".format((caso_hro_menor), (caso_min_igual)))\n",
        "    elif Hora_inicial < Hora_final and Minuto_inicial > Minuto_final:\n",
        "        print(\"O JOGO DUROU {} HORA(S) E {} MINUTO(S)\".format((caso_hro_menor), (caso_mino_maior)))\n",
        "    elif Hora_inicial < Hora_final and Minuto_inicial < Minuto_final:\n",
        "        print(\"O JOGO DUROU {} HORA(S) E {} MINUTO(S)\".format((caso_hro_menor), (caso_mino_menor )))\n"
      ],
      "execution_count": null,
      "outputs": []
    },
    {
      "cell_type": "code",
      "metadata": {
        "id": "YnjowtSL0H5A"
      },
      "source": [
        "Hora_inicial, Minuto_inicial, Hora_final, Minuto_final = input().split()\n",
        "Hora_inicial, Minuto_inicial, Hora_final, Minuto_final = int(Hora_inicial), int(Minuto_inicial), int(Hora_final), int(Minuto_final)\n",
        "\n",
        "Diferença_min1 = 60 - Minuto_inicial + Minuto_final \n",
        "\n",
        "Diferença_de_hora = (Diferença_min1 // 60) \n",
        "min_fix = Diferença_min1 % 60\n",
        "\n",
        "Diferença_de_hora1 = ((24 - Hora_inicial + Hora_final) + Diferença_de_hora) - 1\n",
        "Diferença_de_hora2 = (24 - Hora_inicial + Hora_final) + Diferença_de_hora \n",
        "Diferença_de_hora3 = (24 - Hora_inicial + Hora_final)\n",
        "Diferença_de_hora4 = Hora_final - Hora_inicial \n",
        "Diferença_de_hora5 = Hora_final - Hora_inicial - 1\n",
        "Diferença_de_hora6 = Hora_final - Hora_inicial \n",
        "\n",
        "if min_fix <= 59 and Diferença_de_hora1 < 24:\n",
        "    print(\"O JOGO DUROU {} HORA(S) E {} MINUTO(S)\".format(Diferença_de_hora1, min_fix))\n",
        "\n",
        "elif Hora_inicial > Hora_final or Hora_inicial == Hora_final and Diferença_de_hora2 < 24:\n",
        "    print(\"O JOGO DUROU {} HORA(S) E {} MINUTO(S)\".format(Diferença_de_hora2, min_fix))\n",
        "\n",
        "elif Hora_inicial == Hora_final and Minuto_inicial == Minuto_final:\n",
        "    print(\"O JOGO DUROU {} HORA(S) E {} MINUTO(S)\".format(Diferença_de_hora3, min_fix))\n",
        "\n",
        "elif Hora_inicial < Hora_final and Minuto_inicial <= Minuto_final:\n",
        "        print(\"O JOGO DUROU {} HORA(S) E {} MINUTO(S)\".format(Diferença_de_hora4, min_fix))\n",
        "\n",
        "elif Hora_inicial < Hora_final and Minuto_inicial > Minuto_final :\n",
        "        print(\"O JOGO DUROU {} HORA(S) E {} MINUTO(S)\".format(Diferença_de_hora5, min_fix))\n",
        "\n",
        "elif Diferença_de_hora1 >= 24 and min_fix >= 1 or Diferença_de_hora2 >= 24 and min_fix >= 1 or Diferença_de_hora3 >= 24 and min_fix >= 1:\n",
        "   print(\"O JOGO DUROU {} HORA(S) E {} MINUTO(S)\".format(Diferença_de_hora6, min_fix))\n"
      ],
      "execution_count": null,
      "outputs": []
    },
    {
      "cell_type": "code",
      "metadata": {
        "id": "9k99Df8cQAMv"
      },
      "source": [
        "ABC = float(input())\n",
        "\n",
        "if ABC <= 400.00:\n",
        "    qze_pct = ABC * 1.15\n",
        "    print('Novo salario: {:.2f}'.format(qze_pct))\n",
        "    print('Reajuste ganho: {:.2f}'.format( (ABC * 0.15)))\n",
        "    print('Em percentual: 15 %')\n",
        "elif 400.01 >= ABC < 800.00 or ABC == 800.00:\n",
        "    dze_pct = ABC * 1.12\n",
        "    print('Novo salario: {:.2f}'.format(dze_pct))\n",
        "    print('Reajuste ganho: {:.2f}'.format(ABC * 0.12))\n",
        "    print('Em percentual: 12 %')\n",
        "elif 800.01 >= ABC < 1200.00 or ABC == 1200.00:\n",
        "    dz_pct = ABC * 1.10\n",
        "    print('Novo salario: {:.2f}'.format(dz_pct))\n",
        "    print('Reajuste ganho: {:.2f}'.format(ABC * 0.10))\n",
        "    print('Em percentual: 10 %')\n",
        "elif 1200.00 > ABC < 2000.00 or ABC == 2000.00:\n",
        "    s_pct = ABC * 1.07\n",
        "    print('Novo salario: {:.2f}'.format(s_pct))\n",
        "    print('Reajuste ganho: {:.2f}'.format(ABC * 0.07))\n",
        "    print('Em percentual: 7 %')\n",
        "elif ABC > 2000.00:\n",
        "    q_pct = ABC * 1.04\n",
        "    print('Novo salario: {:.2f}'.format(q_pct))\n",
        "    print('Reajuste ganho: {:.2f}'.format(ABC * 0.04))\n",
        "    print('Em percentual: 4 %')"
      ],
      "execution_count": null,
      "outputs": []
    },
    {
      "cell_type": "code",
      "metadata": {
        "id": "7fCd-3JH_zYH"
      },
      "source": [
        "subfilo = input()\n",
        "subfilo = str(subfilo)\n",
        "filo = input()\n",
        "filo = str(filo)\n",
        "grupo  = input()\n",
        "grupo = str(grupo)\n",
        "\n",
        "if ('vertebrado' in subfilo):\n",
        "    if ('ave' in filo):\n",
        "        if ('carnivoro' in grupo):\n",
        "            print(\"aguia\")\n",
        "        if ('onivoro' in grupo):\n",
        "            print(\"pomba\")\n",
        "    if ('mamifero' in filo):\n",
        "        if ('onivoro' in grupo):\n",
        "            print(\"homem\")\n",
        "        if ('herbivoro' in grupo):\n",
        "            print(\"vaca\")\n",
        "\n",
        "if ('invertebrado' in subfilo):\n",
        "    if ('inseto' in filo):\n",
        "        if ('hematofago' in grupo):\n",
        "            print(\"pulga\")\n",
        "        if ('herbivoro' in grupo):\n",
        "            print(\"lagarta\")\n",
        "    if ('anelideo' in filo):\n",
        "        if ('hematofago' in grupo):\n",
        "            print(\"sanguessuga\")\n",
        "        if ('onivoro' in grupo):\n",
        "            print(\"minhoca\")\n",
        "\n",
        "#classes/objeto estudar"
      ],
      "execution_count": null,
      "outputs": []
    },
    {
      "cell_type": "code",
      "metadata": {
        "id": "66vr6JdxLvWH"
      },
      "source": [
        "#Antes\n",
        "'''\n",
        "DDD = int(input())\n",
        "\n",
        "if DDD == 61:\n",
        "    print('Brasilia')\n",
        "elif DDD == 71:\n",
        "    print('Salvador')\n",
        "elif DDD == 11:\n",
        "    print('Sao Paulo')\n",
        "elif DDD == 21 :\n",
        "    print('Rio de Janeiro')\n",
        "elif DDD == 32:\n",
        "    print('Juiz de Fora')\n",
        "elif DDD == 19:\n",
        "    print('Campinas')\n",
        "elif DDD == 27:\n",
        "    print('Vitoria')\n",
        "elif DDD == 31:\n",
        "    print('Belo Horizonte')\n",
        "else:\n",
        "    print('DDD nao cadastrado')'''\n",
        "\n",
        "#Depois\n",
        "\n",
        "DDD = int(input())\n",
        "ddd = {61:'Brasilia',71:'Salvador',11:'Sao Paulo',21:'Rio de Janeiro',\n",
        "       32:'Juiz de Fora',19:'Campinas',27:'Vitoria',31:'Belo Horizonte'}\n",
        "print(ddd.get(int(DDD),'DDD nao cadastrado'))"
      ],
      "execution_count": null,
      "outputs": []
    },
    {
      "cell_type": "code",
      "metadata": {
        "id": "35_1TSpvyjd6"
      },
      "source": [
        "Lisarb = float(input())\n",
        "\n",
        "tax1 = Lisarb - 2000\n",
        "tax2 = 0\n",
        "p2 = 0\n",
        "tax = 0\n",
        "tax28 = 0\n",
        "tax3 = 0\n",
        "tax8 = 0\n",
        "tax18 = 0\n",
        "\n",
        "if Lisarb <= 2000.00:\n",
        "    print(\"Isento\")\n",
        "\n",
        "if tax1 <= 1000:\n",
        "    tax1 = Lisarb - 2000 \n",
        "    tax8 = tax1  * 0.08\n",
        "\n",
        "elif tax1 > 1000:\n",
        "    tax1 = Lisarb - 2000\n",
        "    tax2 = tax1 - 1000 \n",
        "    tax8 = (tax1 - tax2) * 0.08\n",
        "\n",
        "if tax2 <= 1500 and tax1 > 1000:\n",
        "    tax1 = Lisarb - 2000\n",
        "    tax2 = tax1 - 1000 \n",
        "    tax18 = tax2 * 0.18\n",
        "\n",
        "elif tax2 > 1500:\n",
        "    p2 = 1500\n",
        "    tax1 = Lisarb - 2000\n",
        "    tax2 = tax1 - 1000\n",
        "    tax28 = tax2 - p2\n",
        "    tax18 = (tax2 - tax28) * 0.18\n",
        "    tax = tax28 * 0.28\n",
        "\n",
        "if tax1 > 0:\n",
        "    print('R$ {:.2f}'.format(tax8 + tax18 + tax))"
      ],
      "execution_count": null,
      "outputs": []
    },
    {
      "cell_type": "code",
      "metadata": {
        "id": "1mcMno5x3q4U"
      },
      "source": [
        "d = float(input())\n",
        "p1 = 0\n",
        "p2 = 0\n",
        "p3 = 0\n",
        "if d <= 2000.00:\n",
        "    print('Insento')\n",
        "elif 2000.01 <= d <= 3000:\n",
        "    p1 = d - 2000.0\n",
        "elif 3000.01 <= d <= 4500:\n",
        "    p1 = 1000\n",
        "    p2 = d - 3000.0\n",
        "else:\n",
        "    p1 = 1000\n",
        "    p2 = 1500\n",
        "    p3 = d - 4500.0\n",
        "\n",
        "if p1 != 0:\n",
        "    print('R$ {:.2f}'.format(p1*8/100+p2*18/100+p3*28/100))"
      ],
      "execution_count": null,
      "outputs": []
    },
    {
      "cell_type": "code",
      "metadata": {
        "id": "X0cpfVokpZGw"
      },
      "source": [
        "mes = int(input())\n",
        "\n",
        "meses = {1:'January', 2:'February', 3:'March', 4:'April', 5:'May', 6:'June', 7:'July', 8:'August', 9:'September', 10:'October', 11:'November', 12:'December'}\n",
        "\n",
        "print(meses.get(int(mes)))"
      ],
      "execution_count": null,
      "outputs": []
    },
    {
      "cell_type": "code",
      "metadata": {
        "id": "G5_yT7G4riW9"
      },
      "source": [
        "for num in range(2,101,2):\n",
        "    print(num)"
      ],
      "execution_count": null,
      "outputs": []
    },
    {
      "cell_type": "code",
      "metadata": {
        "id": "scQg84uPsvkD"
      },
      "source": [
        "soma  = 0\n",
        "for num in range(6):\n",
        "    num = float(input())\n",
        "    if num > 0:\n",
        "        soma = soma + 1\n",
        "print('{} valores positivos'.format(soma))"
      ],
      "execution_count": null,
      "outputs": []
    },
    {
      "cell_type": "code",
      "metadata": {
        "colab": {
          "background_save": true
        },
        "id": "Uc76BiqxkQ_z"
      },
      "source": [
        "import datetime\n",
        "import pickle\n",
        "from datetime import timedelta\n",
        "\n",
        "from dateutil.relativedelta import relativedelta\n",
        "\n",
        "dia_comeco = str(input(\"Dia \"))\n",
        "hora_mim_seg_comeco = str(input())\n",
        "dia_fim = str(input(\"Dia \"))\n",
        "hora_mim_seg_fim = str(input())\n",
        "\n",
        "day1 = dia_comeco + \" \" + hora_mim_seg_comeco\n",
        "formatday1 =  \"%d %H : %M : %S\"\n",
        "resulday1 = datetime.datetime.strptime(day1, formatday1)\n",
        "\n",
        "day2 = dia_fim + \" \" + hora_mim_seg_fim\n",
        "formatday2 =  \"%d %H : %M : %S\"\n",
        "resulday2 = datetime.datetime.strptime(day2, formatday2)\n",
        "\n",
        "\n",
        "delta = abs(resulday1 - resulday2)\n",
        "delta1 = str(delta)\n",
        "formatd =  \"%d days, %H:%M:%S\"\n",
        "delta2 = datetime.datetime.strptime(delta1, formatd)\n",
        "diff = abs(relativedelta(resulday1, resulday2))\n",
        "\n",
        "print (\"%d dia(s) \" % (diff.days))\n",
        "print(\"%d hora(s)\" % (diff.hours))\n",
        "print(\"%d minutos(s)\" % (diff.minutes))\n",
        "print(\"%d segundo(s)\"% (diff.seconds))\n",
        "print(delta1)\n",
        "print(\"%s dia(s)\" % (delta2.day))\n",
        "print(\"%s hora(s)\" % (delta2.hour))\n",
        "print(\"%s minutos(s)\" % (delta2.minute))\n",
        "print(\"%s segundo(s)\" % (delta2.second))\n",
        "# Dia: 5\n",
        "# 08 : 12 : 23\n",
        "# Dia: 9\n",
        "# 06 : 13 : 23"
      ],
      "execution_count": null,
      "outputs": []
    },
    {
      "cell_type": "code",
      "metadata": {
        "id": "3HyGI3PspqcY"
      },
      "source": [
        "import datetime\n",
        "from datetime import timedelta\n",
        "\n",
        "dia_comeco = str(input())\n",
        "hora_mim_seg_comeco = str(input())\n",
        "dia_fim = str(input())\n",
        "hora_mim_seg_fim = str(input())\n",
        "\n",
        "day1 = dia_comeco + \" \" + hora_mim_seg_comeco\n",
        "formatday1 =  \"Dia %d %H : %M : %S\"\n",
        "resulday1 = datetime.datetime.strptime(day1, formatday1)\n",
        "\n",
        "day2 = dia_fim + \" \" + hora_mim_seg_fim\n",
        "formatday2 =  \"Dia %d %H : %M : %S\"\n",
        "resulday2 = datetime.datetime.strptime(day2, formatday2)\n",
        "\n",
        "delta = abs(resulday1 - resulday2)\n",
        "delta1 = str(delta)\n",
        "# formatd =  \"%d days, %H:%M:%S\"\n",
        "# delta2 = datetime.datetime.strptime(delta1, formatd)\n",
        "\n",
        "print(delta1)\n",
        "# print(\"%s dia(s)\" % (delta2.day))\n",
        "# print(\"%s hora(s)\" % (delta2.hour))\n",
        "# print(\"%s minutos(s)\" % (delta2.minute))\n",
        "# print(\"%s segundo(s)\" % (delta2.second))\n",
        "# Dia 5\n",
        "# 08 : 12 : 23\n",
        "# Dia 5\n",
        "# 09 : 13 : 25"
      ],
      "execution_count": null,
      "outputs": []
    },
    {
      "cell_type": "code",
      "metadata": {
        "id": "fQhlMDeyM28d"
      },
      "source": [
        "contador = soma = media = 0\n",
        "for c in range(0,6):\n",
        "    num = float(input())\n",
        "    if num > 0:\n",
        "        contador += 1\n",
        "        soma += num\n",
        "    media = soma / contador\n",
        "print(\"{} valores positivos\".format(contador))\n",
        "print('{:.1f}'.format(media))"
      ],
      "execution_count": null,
      "outputs": []
    },
    {
      "cell_type": "code",
      "metadata": {
        "id": "w3G54hxlgIEw"
      },
      "source": [
        "from random import randint\n",
        "num = randint(0,10)\n",
        "print(\"Sou seu computador e pensei em um número entre 0 e 10, tente adivinhar...\") \n",
        "sorteio = int(input(\"Qual seu palpite? \"))\n",
        "while sorteio != num:\n",
        "    if sorteio < num:\n",
        "        print('Mais... Tente novamente')\n",
        "        sorteio = int(input(\"Qual seu palpite? \"))\n",
        "    elif sorteio > num:\n",
        "        print('Menos... Tente novamente')\n",
        "        sorteio = int(input(\"Qual seu palpite? \"))\n",
        "    if sorteio == num:\n",
        "        print(f'Você acertou o número é {num}')\n",
        "    \n",
        "    \n",
        "\n",
        "  "
      ],
      "execution_count": null,
      "outputs": []
    },
    {
      "cell_type": "code",
      "metadata": {
        "id": "pok43FOwYUkC"
      },
      "source": [
        "contadorPositivos = contadorNegativos = contadorPar = contadorImpar = 0\n",
        "for c in range(0,5):\n",
        "    num = int(input())\n",
        "    if num > 0:\n",
        "        contadorPositivos += 1\n",
        "    if num < 0:\n",
        "        contadorNegativos += 1\n",
        "    if num % 2 == 0:\n",
        "        contadorPar += 1\n",
        "    if num % 2 != 0:\n",
        "        contadorImpar += 1\n",
        "print(\"{} valor(es) par(es)\".format(contadorPar))\n",
        "print(\"{} valor(es) impar(es)\".format(contadorImpar))\n",
        "print(\"{} valor(es) positivo(s)\".format(contadorPositivos))\n",
        "print(\"{} valor(es) negativo(s)\".format(contadorNegativos))\n",
        "\n",
        "# -5\n",
        "# 0\n",
        "# -3\n",
        "# -4\n",
        "# 12"
      ],
      "execution_count": null,
      "outputs": []
    },
    {
      "cell_type": "code",
      "metadata": {
        "id": "op2p75kRanRj"
      },
      "source": [
        "pt = int(input())\n",
        "if pt % 2 == 0:\n",
        "    for c in range(pt + 1,pt + 12,2):\n",
        "        print(c)\n",
        "if pt % 2 != 0:\n",
        "    for c in range(pt,pt + 12,2):\n",
        "        print(c)\n"
      ],
      "execution_count": null,
      "outputs": []
    },
    {
      "cell_type": "code",
      "metadata": {
        "id": "HI7YUSf4wUex"
      },
      "source": [
        "num1 = int(input())\n",
        "num2 = int(input())\n",
        "if num1 % 2 == 0:\n",
        "    for c in range(num1 + 1,num2,2):\n",
        "        print(c)\n",
        "if num1 % 2 != 0:\n",
        "    for c in range(num1,num2,2):\n",
        "        print(c)"
      ],
      "execution_count": null,
      "outputs": []
    },
    {
      "cell_type": "code",
      "metadata": {
        "id": "uZfE3v03R1wh"
      },
      "source": [
        "num1 = int(input())\n",
        "num2 = int(input())\n",
        "sub = sub1 = soma = n = 0\n",
        "\n",
        "# if num1 < num2:\n",
        "#     if num1 % 2 != 0:\n",
        "#         while num1 < num2:\n",
        "#             soma += num1\n",
        "#             num1 += 2\n",
        "# if num1 < num2:\n",
        "#     if num1 % 2 == 0:\n",
        "#         sub = num1 - 2\n",
        "#         sub1 = sub + 3\n",
        "#         while num1 < num2:\n",
        "#             sub1 += 2\n",
        "#             soma += sub1\n",
        "if num1 > num2:\n",
        "    if num1 % 2 != 0:\n",
        "        barra = num2\n",
        "        while num2 < num1 and num1 :\n",
        "            num1 -= 2\n",
        "            soma += num1\n",
        "    if num1 % 2 == 0:\n",
        "        sub = num1 - 1\n",
        "        while sub > num2:\n",
        "            soma += sub\n",
        "            sub -= 2\n",
        "if num1 == num2:\n",
        "    soma = num1 - num2\n",
        "print(soma)"
      ],
      "execution_count": null,
      "outputs": []
    },
    {
      "cell_type": "code",
      "metadata": {
        "id": "T3NYQ-O2bUv4"
      },
      "source": [
        "num1 = int(input())\n",
        "num2 = int(input())\n",
        "lista = [num1, num2]\n",
        "maior = max(lista, key=int)\n",
        "menor = min(lista, key=int)\n",
        "soma = 0\n",
        "if maior % 2 == 0:\n",
        "    for c in range(maior - 1,menor, -2):\n",
        "        soma += c\n",
        "if maior % 2 != 0:\n",
        "    for c in range(maior - 2,menor, -2):\n",
        "        soma += c\n",
        "print(soma)"
      ],
      "execution_count": null,
      "outputs": []
    }
  ]
}